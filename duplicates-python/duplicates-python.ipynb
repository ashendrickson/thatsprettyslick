{
 "cells": [
  {
   "cell_type": "markdown",
   "id": "71c0cfe9",
   "metadata": {},
   "source": [
    "# 1: Import the pandas package"
   ]
  },
  {
   "cell_type": "code",
   "execution_count": null,
   "id": "b9a72ab1",
   "metadata": {},
   "outputs": [],
   "source": [
    "import pandas as pd"
   ]
  },
  {
   "cell_type": "markdown",
   "id": "f77475a5",
   "metadata": {},
   "source": [
    "# 2: Load data from the file"
   ]
  },
  {
   "cell_type": "code",
   "execution_count": null,
   "id": "fb8798be",
   "metadata": {},
   "outputs": [],
   "source": [
    "data_file = pd.read_csv('input-data/transactions_data_short.csv')"
   ]
  },
  {
   "cell_type": "markdown",
   "id": "7338f3cd",
   "metadata": {},
   "source": [
    "# 3: Identify duplicate records"
   ]
  },
  {
   "cell_type": "code",
   "execution_count": null,
   "id": "1ee03c30",
   "metadata": {},
   "outputs": [],
   "source": [
    "data_file[data_file.duplicated(subset = ['UserId', 'TransactionId', 'TransactionTime', 'ItemCode',\n",
    "       'ItemDescription', 'NumberOfItemsPurchased', 'CostPerItem', 'Country'])]"
   ]
  },
  {
   "cell_type": "code",
   "execution_count": null,
   "id": "4beab252",
   "metadata": {},
   "outputs": [],
   "source": []
  }
 ],
 "metadata": {
  "kernelspec": {
   "display_name": "Python 3",
   "language": "python",
   "name": "python3"
  },
  "language_info": {
   "codemirror_mode": {
    "name": "ipython",
    "version": 3
   },
   "file_extension": ".py",
   "mimetype": "text/x-python",
   "name": "python",
   "nbconvert_exporter": "python",
   "pygments_lexer": "ipython3",
   "version": "3.7.10"
  }
 },
 "nbformat": 4,
 "nbformat_minor": 5
}
